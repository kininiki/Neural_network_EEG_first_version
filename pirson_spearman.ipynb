{
 "cells": [
  {
   "cell_type": "code",
   "execution_count": 6,
   "metadata": {},
   "outputs": [
    {
     "name": "stdout",
     "output_type": "stream",
     "text": [
      "Коэффициент корреляции Пирсона для тестовой выборки: [0.13219997]\n"
     ]
    }
   ],
   "source": [
    "from scipy.stats import pearsonr\n",
    "import numpy as np\n",
    "\n",
    "test_output = np.array([[49], [55], [58], [51], [31]])\n",
    "# получение предсказанных значений для тестовой выборки\n",
    "predicted_test = np.array([[36.60719004],\n",
    " [35.04185572],\n",
    " [45.17765188],\n",
    " [42.72817626],\n",
    " [39.93486485]])\n",
    "\n",
    "# вычисление коэффициента корреляции Пирсона для тестовой выборки\n",
    "corr_test, _ = pearsonr(predicted_test, test_output)\n",
    "\n",
    "print('Коэффициент корреляции Пирсона для тестовой выборки:', corr_test)"
   ]
  },
  {
   "cell_type": "code",
   "execution_count": 5,
   "metadata": {},
   "outputs": [
    {
     "name": "stdout",
     "output_type": "stream",
     "text": [
      "[[36.24529  ]\n",
      " [34.866352 ]\n",
      " [45.1413445]\n",
      " [42.483655 ]\n",
      " [39.69707  ]]\n"
     ]
    }
   ],
   "source": [
    "pr_t = np.array([[0.7249058 ],\n",
    " [0.69732704],\n",
    " [0.90282689],\n",
    " [0.8496731 ],\n",
    " [0.7939414 ]])\n",
    "print(pr_t/2*100)"
   ]
  },
  {
   "cell_type": "code",
   "execution_count": 2,
   "metadata": {},
   "outputs": [
    {
     "name": "stdout",
     "output_type": "stream",
     "text": [
      "Коэффициент корреляции Спирмена для тестовой выборки: 0.3\n"
     ]
    }
   ],
   "source": [
    "from scipy.stats import spearmanr\n",
    "import numpy as np\n",
    "\n",
    "test_output = np.array([[49], [55], [58], [51], [31]])\n",
    "# получение предсказанных значений для тестовой выборки\n",
    "predicted_test = np.array([[0.7249058 ],\n",
    " [0.69732704],\n",
    " [0.90282689],\n",
    " [0.8496731 ],\n",
    " [0.7939414 ]])\n",
    "\n",
    "# вычисление коэффициента корреляции Спирмена для тестовой выборки\n",
    "corr_test, _ = spearmanr(predicted_test, test_output)\n",
    "\n",
    "print('Коэффициент корреляции Спирмена для тестовой выборки:', corr_test)"
   ]
  },
  {
   "cell_type": "code",
   "execution_count": 4,
   "metadata": {},
   "outputs": [
    {
     "name": "stdout",
     "output_type": "stream",
     "text": [
      "Коэффициент корреляции Спирмена для тестовой выборки: 0.35500933560498293\n",
      "p-value для коэффициента корреляции Спирмена: 0.13583610503129498\n"
     ]
    }
   ],
   "source": [
    "from scipy.stats import spearmanr\n",
    "import numpy as np\n",
    "\n",
    "test_output = np.array([[44], [40], [49], [55], [36], [44], [57], [25], [53], [52], [20], [42], [55], [45], [49], [32], [36], [43], [48]])\n",
    "# получение предсказанных значений для тестовой выборки\n",
    "predicted_test = np.array([[36.44819181],\n",
    " [36.39894868],\n",
    " [36.48466878],\n",
    " [36.48568003],\n",
    " [36.4941367 ],\n",
    " [36.43808988],\n",
    " [36.49512888],\n",
    " [36.46131771],\n",
    " [36.49377069],\n",
    " [36.42249059],\n",
    " [36.48077471],\n",
    " [36.39226482],\n",
    " [36.49223591],\n",
    " [36.45809873],\n",
    " [36.40716077],\n",
    " [36.40619644],\n",
    " [36.47758164],\n",
    " [36.3325923 ],\n",
    " [36.43933087]])\n",
    "\n",
    "# вычисление коэффициента корреляции Спирмена и p-value для тестовой выборки\n",
    "corr_test, p_value = spearmanr(predicted_test, test_output)\n",
    "\n",
    "print('Коэффициент корреляции Спирмена для тестовой выборки:', corr_test)\n",
    "print('p-value для коэффициента корреляции Спирмена:', p_value)"
   ]
  },
  {
   "cell_type": "code",
   "execution_count": 5,
   "metadata": {},
   "outputs": [
    {
     "name": "stdout",
     "output_type": "stream",
     "text": [
      "19\n"
     ]
    }
   ],
   "source": [
    "a = np.array([[44], [40], [49], [55], [36], [44], [57], [25], [53], [52], [20], [42], [55], [45], [49], [32], [36], [43], [48]])\n",
    "print(a.shape[0])"
   ]
  },
  {
   "cell_type": "code",
   "execution_count": 1,
   "metadata": {},
   "outputs": [
    {
     "name": "stdout",
     "output_type": "stream",
     "text": [
      "Коэффициент корреляции Спирмена для тестовой выборки: 0.4646936885297694\n",
      "p-value для коэффициента корреляции Спирмена: 0.1498485574804418\n"
     ]
    }
   ],
   "source": [
    "from scipy.stats import spearmanr\n",
    "import numpy as np\n",
    "\n",
    "test_output = np.array([[57],\n",
    "[25],\n",
    "[53],\n",
    "[52],\n",
    "[20],\n",
    "[42],\n",
    "[45],\n",
    "[49],\n",
    "[36],\n",
    "[43],\n",
    "[48]])\n",
    "# получение предсказанных значений для тестовой выборки\n",
    "predicted_test = np.array([[23.90914487],\n",
    " [23.91631142],\n",
    " [23.92850906],\n",
    " [23.93601509],\n",
    " [23.90529943],\n",
    " [23.92119708],\n",
    " [23.92119708],\n",
    " [23.95360872],\n",
    " [23.86652745],\n",
    " [23.92442818],\n",
    " [23.9051004 ]])\n",
    "\n",
    "# вычисление коэффициента корреляции Спирмена и p-value для тестовой выборки\n",
    "corr_test, p_value = spearmanr(predicted_test, test_output)\n",
    "\n",
    "print('Коэффициент корреляции Спирмена для тестовой выборки:', corr_test)\n",
    "print('p-value для коэффициента корреляции Спирмена:', p_value)"
   ]
  },
  {
   "cell_type": "code",
   "execution_count": null,
   "metadata": {},
   "outputs": [],
   "source": []
  }
 ],
 "metadata": {
  "kernelspec": {
   "display_name": "Python 3",
   "language": "python",
   "name": "python3"
  },
  "language_info": {
   "codemirror_mode": {
    "name": "ipython",
    "version": 3
   },
   "file_extension": ".py",
   "mimetype": "text/x-python",
   "name": "python",
   "nbconvert_exporter": "python",
   "pygments_lexer": "ipython3",
   "version": "3.7.0"
  }
 },
 "nbformat": 4,
 "nbformat_minor": 2
}
